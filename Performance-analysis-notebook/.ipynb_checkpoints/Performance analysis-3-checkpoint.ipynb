{
 "cells": [
  {
   "cell_type": "code",
   "execution_count": 1,
   "id": "57f9ff8a",
   "metadata": {},
   "outputs": [],
   "source": [
    "import numpy as np\n",
    "import pyhf\n",
    "import json\n",
    "import cabinetry\n",
    "from os import listdir, getcwd, path\n",
    "import requests\n",
    "from jsonschema import validate\n",
    "import pruning.normsys_pruning as pruning\n",
    "#from os.path import isfile, isdir, join"
   ]
  },
  {
   "cell_type": "code",
   "execution_count": 2,
   "id": "ab350c0b",
   "metadata": {},
   "outputs": [],
   "source": [
    "path = getcwd()\n",
    "filename = \"/workspace_Comb.json\""
   ]
  },
  {
   "cell_type": "code",
   "execution_count": 3,
   "id": "1048f664",
   "metadata": {},
   "outputs": [
    {
     "data": {
      "text/plain": [
       "['spec_0.025.json',\n",
       " 'workspace_Comb.json',\n",
       " 'workspace_1LOS.json',\n",
       " 'spec_0.1.json',\n",
       " 'spec_0.07500000000000001.json',\n",
       " 'bottom-squarks.json',\n",
       " 'spec_0.0.json',\n",
       " 'spec_0.05.json']"
      ]
     },
     "execution_count": 3,
     "metadata": {},
     "output_type": "execute_result"
    }
   ],
   "source": [
    "names = []\n",
    "\n",
    "for name in listdir(path):\n",
    "    if name[-5::] == \".json\":\n",
    "        names.append(name)\n",
    "\n",
    "names"
   ]
  },
  {
   "cell_type": "code",
   "execution_count": 4,
   "id": "ce3478a7",
   "metadata": {},
   "outputs": [],
   "source": [
    "workspace_spec = json.load(open(path + filename, 'r'))\n",
    "\n",
    "workspace = pyhf.Workspace(workspace_spec) "
   ]
  },
  {
   "cell_type": "code",
   "execution_count": 5,
   "id": "b67f58bb",
   "metadata": {},
   "outputs": [
    {
     "name": "stderr",
     "output_type": "stream",
     "text": [
      "/home/laptop/IRIS-HEP/venv/lib/python3.9/site-packages/pyhf/tensor/numpy_backend.py:259: RuntimeWarning: divide by zero encountered in log\n",
      "  return np.log(tensor_in)\n",
      "/home/laptop/IRIS-HEP/venv/lib/python3.9/site-packages/pyhf/interpolators/code4.py:115: RuntimeWarning: invalid value encountered in multiply\n",
      "  -default_backend.log(self._deltas_dn) * deltas_dn_alpha0,\n",
      "/home/laptop/IRIS-HEP/venv/lib/python3.9/site-packages/pyhf/interpolators/code4.py:118: RuntimeWarning: invalid value encountered in multiply\n",
      "  default_backend.power(default_backend.log(self._deltas_dn), 2)\n"
     ]
    }
   ],
   "source": [
    "original_model = workspace.model()"
   ]
  },
  {
   "cell_type": "code",
   "execution_count": 6,
   "id": "3e4a05bf",
   "metadata": {
    "scrolled": true
   },
   "outputs": [
    {
     "data": {
      "text/plain": [
       "[0.0, 0.025, 0.05, 0.07500000000000001, 0.1]"
      ]
     },
     "execution_count": 6,
     "metadata": {},
     "output_type": "execute_result"
    }
   ],
   "source": [
    "num_thresholds = 5\n",
    "pruning_thresholds = [float(eps) for eps in np.linspace(0.0, 0.1, num_thresholds)] \n",
    "pruning_thresholds"
   ]
  },
  {
   "cell_type": "code",
   "execution_count": 8,
   "id": "ad661545",
   "metadata": {},
   "outputs": [],
   "source": [
    "#pruned_workspaces_specs = [ pruning.prune_model(workspace_spec, eps) for eps in pruning_thresholds ]\n",
    "\n",
    "pruning.prune_model(workspace_spec, 0.0)\n",
    "\n",
    "output_file = open(path + \"/spec_original.json\", \"w\")\n",
    "json.dump(workspace_spec, output_file, indent=4)\n",
    "output_file.close()"
   ]
  },
  {
   "cell_type": "code",
   "execution_count": null,
   "id": "160f48af",
   "metadata": {},
   "outputs": [],
   "source": [
    "for l in range(num_thresholds):\n",
    "    output_file = open(path + \"/spec_{}.json\".format(pruning_thresholds[l]), \"w\")\n",
    "    json.dump(pruned_workspaces_specs[l], output_file, indent=4)\n",
    "    output_file.close()"
   ]
  },
  {
   "cell_type": "code",
   "execution_count": null,
   "id": "d82e10d4",
   "metadata": {},
   "outputs": [],
   "source": [
    "pruned_workspaces = [ pyhf.Workspace(workspace_spec) for workspace_spec in pruned_workspaces_specs ]"
   ]
  },
  {
   "cell_type": "code",
   "execution_count": null,
   "id": "287bbc5b",
   "metadata": {},
   "outputs": [],
   "source": [
    "pruned_models = [ pruned_workspace.model() for pruned_workspace in pruned_workspaces ]"
   ]
  },
  {
   "cell_type": "code",
   "execution_count": null,
   "id": "4c400205",
   "metadata": {},
   "outputs": [],
   "source": [
    "import time\n",
    "\n",
    "num_executions = 1"
   ]
  },
  {
   "cell_type": "code",
   "execution_count": null,
   "id": "e1f349fc",
   "metadata": {},
   "outputs": [],
   "source": [
    "pyhf.set_backend(\"numpy\", \"minuit\")"
   ]
  },
  {
   "cell_type": "code",
   "execution_count": null,
   "id": "0f7c24dc",
   "metadata": {},
   "outputs": [],
   "source": [
    "pyhf.get_backend()"
   ]
  },
  {
   "cell_type": "code",
   "execution_count": null,
   "id": "286d0236",
   "metadata": {},
   "outputs": [],
   "source": [
    "%time\n",
    "average_exec_times = []\n",
    "exec_times = []\n",
    "output_params_all_specs = []\n",
    "\n",
    "for l in range(num_thresholds):\n",
    "    \n",
    "    pruned_data = pruned_workspaces[l].data(pruned_models[l]) #, include_auxdata=False)\n",
    "\n",
    "    exec_times_pruned = []\n",
    "    output_params_sigle_spec = []\n",
    "\n",
    "    for k in range(num_executions):\n",
    "        t0 = time.time()\n",
    "        output_params = pyhf.infer.mle.fit(data=pruned_data, pdf=pruned_models[l])\n",
    "        t1 = time.time()\n",
    "        exec_times_pruned.append(t1-t0)\n",
    "        \n",
    "        output_params_sigle_spec.append(dict(zip(pruned_models[l].config.par_names(), output_params)))\n",
    "        print(k+1)\n",
    "        print(output_params)\n",
    "        \n",
    "    print(\"----------------------------\")\n",
    "    exec_times_pruned = np.array(exec_times_pruned)\n",
    "    \n",
    "    exec_times.append(exec_times_pruned)\n",
    "    average_exec_times.append(np.mean(exec_times_pruned))\n",
    "    \n",
    "    output_params_all_specs.append(output_params_sigle_spec)\n",
    "    "
   ]
  },
  {
   "cell_type": "code",
   "execution_count": null,
   "id": "0b5f22ae",
   "metadata": {},
   "outputs": [],
   "source": [
    "# for k in range(num_executions):\n",
    "    for l in range(num_thresholds-1):\n",
    "        pruned_output_params_dict = output_params_all_specs[l][k]\n",
    "        parameter_names = pruned_output_params_dict.keys()\n",
    "        \n",
    "        pruned_output_params = np.fromiter(pruned_output_params_dict.values(), float)\n",
    "        original_output_params = np.array([output_params_all_specs[num_thresholds-1][k][name] for name in parameter_names])\n",
    "        print(np.abs(pruned_output_params - original_output_params))\n",
    "        #print(pruned_output_params)\n",
    "        #print(original_output_params)\n",
    "    print(\"-------------------------------\")"
   ]
  },
  {
   "cell_type": "code",
   "execution_count": null,
   "id": "62356bcb",
   "metadata": {},
   "outputs": [],
   "source": [
    "results = {\"num_executions\" : num_executions, \"num_thresholds\" : num_thresholds, \"pruning_thresholds\" : pruning_thresholds, \"average_exec_times\" : average_exec_times, \"exec_times\" : exec_times, \"output_params_all_specs\" : output_params_all_specs }"
   ]
  },
  {
   "cell_type": "code",
   "execution_count": null,
   "id": "91ee9a83",
   "metadata": {},
   "outputs": [],
   "source": [
    "output_file = open(path + filename[:-5:] + \"_PA_results.json\", \"w\")\n",
    "json.dump(results, output_file, indent=4)\n",
    "output_file.close()"
   ]
  }
 ],
 "metadata": {
  "kernelspec": {
   "display_name": "Python 3 (ipykernel)",
   "language": "python",
   "name": "python3"
  },
  "language_info": {
   "codemirror_mode": {
    "name": "ipython",
    "version": 3
   },
   "file_extension": ".py",
   "mimetype": "text/x-python",
   "name": "python",
   "nbconvert_exporter": "python",
   "pygments_lexer": "ipython3",
   "version": "3.9.2"
  },
  "vscode": {
   "interpreter": {
    "hash": "3654b5d0b3432a3d08d236c6084731c8c7becc8e5f841d0c0d383636450ad508"
   }
  }
 },
 "nbformat": 4,
 "nbformat_minor": 5
}
