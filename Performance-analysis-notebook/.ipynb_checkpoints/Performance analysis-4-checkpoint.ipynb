{
 "cells": [
  {
   "cell_type": "code",
   "execution_count": 1,
   "id": "57f9ff8a",
   "metadata": {},
   "outputs": [],
   "source": [
    "import numpy as np\n",
    "import pyhf\n",
    "import json\n",
    "import cabinetry\n",
    "from os import listdir, getcwd, path\n",
    "import requests\n",
    "from jsonschema import validate\n",
    "import pruning.normsys_pruning as pruning\n",
    "#from os.path import isfile, isdir, join"
   ]
  },
  {
   "cell_type": "code",
   "execution_count": 2,
   "id": "ab350c0b",
   "metadata": {},
   "outputs": [],
   "source": [
    "path = getcwd()"
   ]
  },
  {
   "cell_type": "code",
   "execution_count": 3,
   "id": "874710c6",
   "metadata": {},
   "outputs": [
    {
     "data": {
      "text/plain": [
       "['/bottom-squarks_PA_results.json',\n",
       " '/workspace_Comb.json',\n",
       " '/workspace_1LOS.json',\n",
       " '/bottom-squarks.json']"
      ]
     },
     "execution_count": 3,
     "metadata": {},
     "output_type": "execute_result"
    }
   ],
   "source": [
    "names = []\n",
    "\n",
    "for name in listdir(path):\n",
    "    if name[-5::] == \".json\":\n",
    "        names.append(\"/\" + name)\n",
    "\n",
    "names"
   ]
  },
  {
   "cell_type": "code",
   "execution_count": 4,
   "id": "f3b83ea5",
   "metadata": {},
   "outputs": [],
   "source": [
    "filename = '/bottom-squarks.json'"
   ]
  },
  {
   "cell_type": "code",
   "execution_count": 5,
   "id": "ce3478a7",
   "metadata": {},
   "outputs": [],
   "source": [
    "workspace_spec = json.load(open(path + filename, 'r'))\n",
    "\n",
    "workspace = pyhf.Workspace(workspace_spec) \n",
    "\n"
   ]
  },
  {
   "cell_type": "code",
   "execution_count": 6,
   "id": "b67f58bb",
   "metadata": {},
   "outputs": [
    {
     "data": {
      "text/plain": [
       "'mu_SIG'"
      ]
     },
     "execution_count": 6,
     "metadata": {},
     "output_type": "execute_result"
    }
   ],
   "source": [
    "original_model = workspace.model()\n",
    "poi_index = original_model.config.poi_index\n",
    "poi_name = original_model.config.par_names()[poi_index]\n",
    "poi_name"
   ]
  },
  {
   "cell_type": "code",
   "execution_count": 7,
   "id": "3e4a05bf",
   "metadata": {
    "scrolled": true
   },
   "outputs": [
    {
     "data": {
      "text/plain": [
       "[0.0, 0.025, 0.05, 0.07500000000000001, 0.1]"
      ]
     },
     "execution_count": 7,
     "metadata": {},
     "output_type": "execute_result"
    }
   ],
   "source": [
    "num_thresholds = 10\n",
    "pruning_thresholds = [float(eps) for eps in np.linspace(0.0, 0.1, num_thresholds)] \n",
    "pruning_thresholds"
   ]
  },
  {
   "cell_type": "code",
   "execution_count": 8,
   "id": "ad661545",
   "metadata": {},
   "outputs": [],
   "source": [
    "pruned_workspaces_specs = [ pruning.prune_model(workspace_spec, eps) for eps in pruning_thresholds ]\n",
    "\n",
    "pruning.prune_model(workspace_spec, 0.0)\n",
    "\n",
    "output_file = open(path + \"/spec_original.json\", \"w\")\n",
    "json.dump(workspace_spec, output_file, indent=4)\n",
    "output_file.close()"
   ]
  },
  {
   "cell_type": "code",
   "execution_count": 9,
   "id": "160f48af",
   "metadata": {},
   "outputs": [],
   "source": [
    "for l in range(num_thresholds):\n",
    "    output_file = open(path + \"/spec_{}.json\".format(pruning_thresholds[l]), \"w\")\n",
    "    json.dump(pruned_workspaces_specs[l], output_file, indent=4)\n",
    "    output_file.close()"
   ]
  },
  {
   "cell_type": "code",
   "execution_count": 10,
   "id": "d82e10d4",
   "metadata": {},
   "outputs": [],
   "source": [
    "pruned_workspaces = [ pyhf.Workspace(workspace_spec) for workspace_spec in pruned_workspaces_specs ]"
   ]
  },
  {
   "cell_type": "code",
   "execution_count": 11,
   "id": "287bbc5b",
   "metadata": {},
   "outputs": [],
   "source": [
    "pruned_models = [ pruned_workspace.model() for pruned_workspace in pruned_workspaces ]"
   ]
  },
  {
   "cell_type": "code",
   "execution_count": 12,
   "id": "4c400205",
   "metadata": {},
   "outputs": [],
   "source": [
    "import time\n",
    "\n",
    "num_executions = 1"
   ]
  },
  {
   "cell_type": "code",
   "execution_count": 13,
   "id": "e1f349fc",
   "metadata": {},
   "outputs": [],
   "source": [
    "pyhf.set_backend(\"numpy\", \"minuit\")"
   ]
  },
  {
   "cell_type": "code",
   "execution_count": 14,
   "id": "a4a9d892",
   "metadata": {},
   "outputs": [
    {
     "data": {
      "text/plain": [
       "(<pyhf.tensor.numpy_backend.numpy_backend at 0x7f319ee55d40>,\n",
       " <pyhf.optimize.minuit_optimizer at 0x7f319ee17be0>)"
      ]
     },
     "execution_count": 14,
     "metadata": {},
     "output_type": "execute_result"
    }
   ],
   "source": [
    "pyhf.get_backend()"
   ]
  },
  {
   "cell_type": "code",
   "execution_count": 15,
   "id": "286d0236",
   "metadata": {
    "scrolled": true
   },
   "outputs": [
    {
     "name": "stdout",
     "output_type": "stream",
     "text": [
      "CPU times: user 4 µs, sys: 1 µs, total: 5 µs\n",
      "Wall time: 7.39 µs\n",
      "1\n",
      "[ 9.99979738e-01  9.99027998e-01  6.62764299e-05  7.41803920e-05\n",
      " -1.31715649e-03 -5.53842414e-02 -7.42011570e-02 -6.32418871e-03\n",
      " -1.31715650e-03 -5.01928222e-03 -4.83300048e-03  9.02938927e-03\n",
      "  3.68976045e-04  1.41909605e-02  2.07695721e-02 -5.15841088e-03\n",
      " -1.31715656e-03 -1.31715655e-03 -2.60817900e-03 -7.70732692e-03\n",
      " -3.42090156e-03 -1.24003918e-02 -2.19085151e-03 -1.69571592e-03\n",
      " -3.20220633e-03 -3.63108172e-03 -9.51828373e-04  2.53097775e-03\n",
      " -1.99389153e-03 -5.11635238e-03 -1.14738141e-03  1.36763905e-01\n",
      " -2.27775782e-01 -1.85442180e-01 -1.87509270e-02 -5.54853352e-02\n",
      " -1.27737533e-01  2.84851237e-02  1.65413846e-01  1.48681863e-02\n",
      "  3.52207970e-02 -1.42752821e-02  4.57864519e-02  7.56467018e-03\n",
      " -1.71225189e-02 -9.05015959e-03  8.18995660e-03  4.44231310e-03\n",
      "  1.10700590e-03 -1.31718550e-03 -2.56692003e-03  1.04374346e+00\n",
      " -1.47704443e-02  7.99560317e-01  8.34982259e-02 -9.10234252e-03\n",
      "  4.48020616e-01  3.18801314e-01  2.17870147e-01 -4.81336792e-03\n",
      "  1.01251710e+00  1.00483155e+00  1.00225817e+00  1.00992603e+00\n",
      "  1.81228678e-01  9.97496473e-01]\n",
      "eps = 0.0 ----------------------------\n",
      "1\n",
      "[ 9.99996735e-01  9.99018446e-01  1.50045283e-06  2.01272886e-06\n",
      " -6.24952780e-12 -1.48124103e-02 -3.98443487e-02 -1.33745356e-03\n",
      " -1.30619578e-11 -1.16479835e-03 -3.18232145e-03  6.74720937e-03\n",
      " -2.95297060e-02 -6.99824525e-04  8.75799283e-03 -4.43963630e-03\n",
      "  1.52016455e-11  1.61318476e-11 -2.84186869e-04 -1.48000991e-03\n",
      " -4.46452805e-04 -2.48338122e-03 -1.85828830e-04 -7.97608460e-05\n",
      " -5.47597550e-04 -5.09972225e-04  1.62561319e-03 -1.91523090e-03\n",
      "  7.05457364e-09 -1.15463321e-04 -7.58763241e-04  1.29709149e-01\n",
      " -2.22822108e-01 -1.80602975e-01 -1.92700440e-02 -5.13393022e-02\n",
      " -1.70738407e-01  5.73706905e-02  1.83307102e-01 -1.15368371e-02\n",
      "  4.57928546e-02 -1.30159849e-02  7.73702299e-02  6.28434249e-03\n",
      " -1.74355930e-02 -7.70418179e-04 -1.27091305e-02  1.15532691e-02\n",
      " -3.29456449e-03 -2.48991019e-08  3.12741205e-04  1.04372099e+00\n",
      " -1.42653552e-02  7.99742012e-01  8.15673436e-02 -9.03198017e-03\n",
      "  4.44711860e-01  3.16118602e-01  2.10760701e-01 -3.66604291e-03\n",
      "  1.01230885e+00  1.00561651e+00  1.00241668e+00  1.00957045e+00\n",
      "  1.82212628e-01  9.97515007e-01]\n",
      "eps = 0.025 ----------------------------\n",
      "1\n",
      "[ 9.99983268e-01  9.98968266e-01  1.47487368e-04  0.00000000e+00\n",
      " -1.54697112e-02 -4.05221005e-02 -1.41086438e-03  0.00000000e+00\n",
      " -1.18185915e-03 -5.27429641e-03  5.20673729e-03 -7.43310358e-03\n",
      " -8.47693373e-04  9.22817860e-03 -2.35522747e-03  0.00000000e+00\n",
      "  0.00000000e+00 -2.97836372e-04 -1.58013531e-03 -4.78205800e-04\n",
      " -2.65467688e-03 -1.99182445e-04 -8.68585751e-05 -5.55600303e-04\n",
      " -5.17418981e-04  1.63858292e-03 -2.03447474e-03  9.66244562e-09\n",
      " -1.37904055e-03 -7.97603141e-04  6.88161815e-02 -2.27019794e-01\n",
      " -1.75781925e-01 -8.51950704e-03 -5.59128002e-02 -1.39893472e-01\n",
      " -1.55748756e-01  6.09952138e-02  2.55439942e-02 -3.65784339e-02\n",
      "  4.08695478e-03 -5.01493205e-02  7.04954918e-03 -1.67139027e-02\n",
      " -8.54993825e-04 -1.30997234e-02  1.22720944e-02 -3.30185430e-03\n",
      " -2.89588015e-08  3.25581681e-04  1.04158529e+00 -1.51050813e-02\n",
      "  7.99533083e-01  8.79494706e-02 -9.23892431e-03  4.62754223e-01\n",
      "  3.37443716e-01  2.19630068e-01 -4.10750923e-03  1.01270128e+00\n",
      "  1.00542105e+00  1.00241362e+00  1.01047793e+00  1.85318682e-01\n",
      "  9.97443225e-01]\n",
      "eps = 0.05 ----------------------------\n",
      "1\n",
      "[ 9.99983583e-01  9.98890097e-01  1.32058400e-04  0.00000000e+00\n",
      " -1.61942082e-02 -4.22164526e-02 -1.48024963e-03  0.00000000e+00\n",
      " -1.23045956e-03 -5.30716117e-03  6.37428969e-03 -3.71782941e-03\n",
      "  3.52258062e-04  1.05493284e-02 -2.99254395e-03  0.00000000e+00\n",
      "  0.00000000e+00 -3.12037885e-04 -1.66129489e-03 -5.03063349e-04\n",
      " -2.79148698e-03 -2.09576641e-04 -9.16400973e-05 -5.78452897e-04\n",
      " -5.38700759e-04  1.71637762e-03 -1.95538567e-03  1.07800591e-08\n",
      " -1.19222887e-03 -8.35561317e-04  7.22527596e-02 -1.40223922e-01\n",
      " -1.10589978e-01 -8.33224792e-03 -5.98016964e-02 -1.52742974e-01\n",
      " -1.73819628e-01  6.21446609e-02  2.44398329e-02  4.46114326e-03\n",
      "  3.88996307e-03  2.83140629e-02  6.94451198e-03 -1.61507312e-02\n",
      "  2.73420692e-04 -1.25530388e-02  1.19181809e-02 -3.84567084e-03\n",
      " -3.09293442e-08  3.99819702e-04  1.04371250e+00 -1.55759107e-02\n",
      "  7.98422140e-01  8.98076629e-02 -9.86236963e-03  4.87853795e-01\n",
      "  3.55403911e-01  2.27950731e-01 -4.70569203e-03  1.01310090e+00\n",
      "  1.00641273e+00  1.00254644e+00  1.01157876e+00  1.94720498e-01\n",
      "  9.97335522e-01]\n",
      "eps = 0.07500000000000001 ----------------------------\n",
      "1\n",
      "[ 1.00001252e+00  9.98851289e-01  1.19329770e-04  0.00000000e+00\n",
      " -1.60909158e-02 -4.38377970e-02 -1.44458743e-03  0.00000000e+00\n",
      " -1.28180320e-03 -2.81716458e-03  1.05782878e-02 -4.16983918e-03\n",
      "  4.90164091e-04  1.19478314e-02 -4.96133154e-03  0.00000000e+00\n",
      "  0.00000000e+00 -3.09050934e-04 -1.59758057e-03 -4.81677288e-04\n",
      " -2.68657683e-03 -1.99939956e-04 -8.57688403e-05 -6.02545973e-04\n",
      " -5.61149127e-04  1.78465663e-03 -4.07683988e-03  6.75635631e-09\n",
      "  1.61791618e-03 -8.29819825e-04  7.85892732e-02 -1.43040935e-01\n",
      " -7.10376863e-02 -8.56337038e-03 -5.98534942e-02 -5.96579265e-04\n",
      "  6.11040116e-02  8.77682753e-02  3.04799320e-02 -5.13242255e-08\n",
      " -6.87036309e-08  2.99300377e-02  8.76835714e-03 -2.13240883e-02\n",
      " -2.92841977e-03 -1.56933356e-02  1.37846213e-02 -4.10068954e-03\n",
      " -2.67879848e-08  2.39017579e-04  1.04519161e+00 -1.46395839e-02\n",
      "  7.97780438e-01  9.01725523e-02 -1.00928859e-02  4.93742756e-01\n",
      "  3.59237371e-01  2.44332828e-01 -4.25570794e-03  1.01368187e+00\n",
      "  1.00557341e+00  1.00293718e+00  1.01293108e+00  2.00916361e-01\n",
      "  9.97271390e-01]\n",
      "eps = 0.1 ----------------------------\n"
     ]
    }
   ],
   "source": [
    "%time\n",
    "average_exec_times = []\n",
    "exec_times = []\n",
    "output_params_all_specs = []\n",
    "\n",
    "for l in range(num_thresholds):\n",
    "    \n",
    "    pruned_data = pruned_workspaces[l].data(pruned_models[l]) #, include_auxdata=False)\n",
    "\n",
    "    exec_times_pruned = []\n",
    "    output_params_sigle_spec = []\n",
    "\n",
    "    for k in range(num_executions):\n",
    "        t0 = time.time()\n",
    "        output_params = pyhf.infer.mle.fit(data=pruned_data, pdf=pruned_models[l])\n",
    "        t1 = time.time()\n",
    "        exec_times_pruned.append(t1-t0)\n",
    "        \n",
    "        output_params_sigle_spec.append(dict(zip(pruned_models[l].config.par_names(), output_params)))\n",
    "        print(k+1)\n",
    "        print(output_params)\n",
    "        \n",
    "    print(\"eps = {} ----------------------------\".format(pruning_thresholds[l]))\n",
    "    \n",
    "    exec_times.append(exec_times_pruned)\n",
    "    \n",
    "    exec_times_pruned = np.array(exec_times_pruned)\n",
    "    \n",
    "    average_exec_times.append(float(np.mean(exec_times_pruned)))\n",
    "    \n",
    "    output_params_all_specs.append(output_params_sigle_spec)\n",
    "    "
   ]
  },
  {
   "cell_type": "code",
   "execution_count": 16,
   "id": "d4ca9c1c",
   "metadata": {},
   "outputs": [],
   "source": [
    "poi_difference = []"
   ]
  },
  {
   "cell_type": "code",
   "execution_count": 17,
   "id": "0b5f22ae",
   "metadata": {
    "scrolled": true
   },
   "outputs": [
    {
     "name": "stdout",
     "output_type": "stream",
     "text": [
      "[1.69969031e-05 9.55258755e-06 6.47759770e-05 7.21676631e-05\n",
      " 1.31715649e-03 4.05718311e-02 3.43568082e-02 4.98673515e-03\n",
      " 1.31715648e-03 3.85448387e-03 1.65067903e-03 2.28217989e-03\n",
      " 2.98986820e-02 1.48907850e-02 1.20115792e-02 7.18774584e-04\n",
      " 1.31715658e-03 1.31715657e-03 2.32399213e-03 6.22731701e-03\n",
      " 2.97444876e-03 9.91701063e-03 2.00502268e-03 1.61595507e-03\n",
      " 2.65460878e-03 3.12110950e-03 2.57744156e-03 4.44620865e-03\n",
      " 1.99389859e-03 5.00088905e-03 3.88618173e-04 7.05475671e-03\n",
      " 4.95367370e-03 4.83920518e-03 5.19117009e-04 4.14603303e-03\n",
      " 4.30008734e-02 2.88855668e-02 1.78932563e-02 2.64050234e-02\n",
      " 1.05720576e-02 1.25929719e-03 3.15837779e-02 1.28032769e-03\n",
      " 3.13074188e-04 8.27974141e-03 2.08990871e-02 7.11095599e-03\n",
      " 4.40157039e-03 1.31716060e-03 2.87966124e-03 2.24723460e-05\n",
      " 5.05089137e-04 1.81695038e-04 1.93088221e-03 7.03623503e-05\n",
      " 3.30875587e-03 2.68271185e-03 7.10944622e-03 1.14732501e-03\n",
      " 2.08255305e-04 7.84956396e-04 1.58515970e-04 3.55572906e-04\n",
      " 9.83949517e-04 1.85344209e-05]\n",
      "[3.52926476e-06 5.97322840e-05 7.33069756e-05 1.31715649e-03\n",
      " 3.99145302e-02 3.36790565e-02 4.91332434e-03 1.31715650e-03\n",
      " 3.83742308e-03 4.41295926e-04 3.82265198e-03 7.80207962e-03\n",
      " 1.50386539e-02 1.15413935e-02 2.80318341e-03 1.31715656e-03\n",
      " 1.31715655e-03 2.31034263e-03 6.12719161e-03 2.94269576e-03\n",
      " 9.74571496e-03 1.99166906e-03 1.60885734e-03 2.64660602e-03\n",
      " 3.11366274e-03 2.59041130e-03 4.56545248e-03 1.99390120e-03\n",
      " 3.73731183e-03 3.49778273e-04 6.79477238e-02 7.55987804e-04\n",
      " 9.66025534e-03 1.02314199e-02 4.27464968e-04 1.21559386e-02\n",
      " 1.84233880e-01 1.04418632e-01 1.06758080e-02 7.17992309e-02\n",
      " 1.83622369e-02 9.59357724e-02 5.15121003e-04 4.08616203e-04\n",
      " 8.19516577e-03 2.12896800e-02 7.82978135e-03 4.40886020e-03\n",
      " 1.31715654e-03 2.89250171e-03 2.15817336e-03 3.34636943e-04\n",
      " 2.72347787e-05 4.45124479e-03 1.36581784e-04 1.47336070e-02\n",
      " 1.86424021e-02 1.75992084e-03 7.05858696e-04 1.84178529e-04\n",
      " 5.89500152e-04 1.55450090e-04 5.51908089e-04 4.09000370e-03\n",
      " 5.32482991e-05]\n",
      "[3.84482629e-06 1.37900934e-04 5.78780082e-05 1.31715649e-03\n",
      " 3.91900332e-02 3.19847043e-02 4.84393908e-03 1.31715650e-03\n",
      " 3.78882266e-03 4.74160687e-04 2.65509957e-03 4.08680546e-03\n",
      " 1.38387024e-02 1.02202437e-02 2.16586694e-03 1.31715656e-03\n",
      " 1.31715655e-03 2.29614111e-03 6.04603203e-03 2.91783821e-03\n",
      " 9.60890486e-03 1.98127486e-03 1.60407582e-03 2.62375343e-03\n",
      " 3.09238096e-03 2.66820600e-03 4.48636342e-03 1.99390231e-03\n",
      " 3.92412350e-03 3.11820098e-04 6.45111457e-02 8.75518598e-02\n",
      " 7.48522020e-02 1.04186790e-02 4.31636115e-03 2.50054405e-02\n",
      " 2.02304751e-01 1.03269185e-01 9.57164664e-03 3.07596537e-02\n",
      " 1.81652452e-02 1.74723890e-02 6.20158195e-04 9.71787634e-04\n",
      " 9.32358029e-03 2.07429954e-02 7.47586776e-03 4.95267674e-03\n",
      " 1.31715457e-03 2.96673973e-03 3.09647457e-05 8.05466408e-04\n",
      " 1.13817752e-03 6.30943704e-03 7.60027106e-04 3.98331783e-02\n",
      " 3.66025968e-02 1.00805836e-02 1.07675890e-04 5.83797805e-04\n",
      " 1.58118497e-03 2.88272191e-04 1.65273794e-03 1.34918200e-02\n",
      " 1.60951074e-04]\n",
      "-------------------------------\n"
     ]
    }
   ],
   "source": [
    "for k in range(num_executions):\n",
    "    for l in range(1, num_thresholds-1):\n",
    "        pruned_output_params_dict = output_params_all_specs[l][k]\n",
    "        parameter_names = pruned_output_params_dict.keys()\n",
    "        \n",
    "        pruned_output_params = np.fromiter(pruned_output_params_dict.values(), float)\n",
    "        original_output_params = np.array([output_params_all_specs[0][k][name] for name in parameter_names])\n",
    "        print(np.abs(pruned_output_params - original_output_params))\n",
    "        #print(pruned_output_params)\n",
    "        #print(original_output_params)\n",
    "    print(\"-------------------------------\")"
   ]
  },
  {
   "cell_type": "code",
   "execution_count": 18,
   "id": "62356bcb",
   "metadata": {},
   "outputs": [],
   "source": [
    "results = {\"num_executions\" : num_executions, \"num_thresholds\" : num_thresholds, \"pruning_thresholds\" : pruning_thresholds, \"average_exec_times\" : average_exec_times, \"exec_times\" : exec_times, \"output_params_all_specs\" : output_params_all_specs }"
   ]
  },
  {
   "cell_type": "code",
   "execution_count": 19,
   "id": "91ee9a83",
   "metadata": {},
   "outputs": [],
   "source": [
    "output_file = open(path + filename[:-5:] + \"_PA_results.json\", \"w\")\n",
    "json.dump(results, output_file, indent=4)\n",
    "output_file.close()"
   ]
  }
 ],
 "metadata": {
  "kernelspec": {
   "display_name": "Python 3 (ipykernel)",
   "language": "python",
   "name": "python3"
  },
  "language_info": {
   "codemirror_mode": {
    "name": "ipython",
    "version": 3
   },
   "file_extension": ".py",
   "mimetype": "text/x-python",
   "name": "python",
   "nbconvert_exporter": "python",
   "pygments_lexer": "ipython3",
   "version": "3.9.2"
  },
  "vscode": {
   "interpreter": {
    "hash": "3654b5d0b3432a3d08d236c6084731c8c7becc8e5f841d0c0d383636450ad508"
   }
  }
 },
 "nbformat": 4,
 "nbformat_minor": 5
}
