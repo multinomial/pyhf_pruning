{
 "cells": [
  {
   "cell_type": "code",
   "execution_count": null,
   "id": "57f9ff8a",
   "metadata": {},
   "outputs": [],
   "source": [
    "import numpy as np\n",
    "import pyhf\n",
    "import json\n",
    "import cabinetry\n",
    "from os import listdir, getcwd\n",
    "import requests\n",
    "from jsonschema import validate\n",
    "import pruning.normsys_pruning as pruning\n",
    "#from os.path import isfile, isdir, join"
   ]
  },
  {
   "cell_type": "code",
   "execution_count": null,
   "id": "ab350c0b",
   "metadata": {},
   "outputs": [],
   "source": [
    "path = getcwd()\n",
    "filename = \"/workspace_Comb.json\""
   ]
  },
  {
   "cell_type": "code",
   "execution_count": null,
   "id": "ce3478a7",
   "metadata": {},
   "outputs": [],
   "source": [
    "workspace_spec = json.load(open(path + filename, 'r'))\n",
    "\n",
    "workspace = pyhf.Workspace(workspace_spec) "
   ]
  },
  {
   "cell_type": "code",
   "execution_count": null,
   "id": "b67f58bb",
   "metadata": {},
   "outputs": [],
   "source": [
    "original_model = workspace.model()"
   ]
  },
  {
   "cell_type": "code",
   "execution_count": null,
   "id": "3e4a05bf",
   "metadata": {
    "scrolled": true
   },
   "outputs": [],
   "source": [
    "num_thresholds = 5\n",
    "pruning_thresholds = [float(eps) for eps in np.linspace(0.01, 0.0, num_thresholds)] \n",
    "pruning_thresholds"
   ]
  },
  {
   "cell_type": "code",
   "execution_count": null,
   "id": "ad661545",
   "metadata": {},
   "outputs": [],
   "source": [
    "pruned_workspaces_specs = [ pruning.prune_model(workspace_spec, eps) for eps in pruning_thresholds ]"
   ]
  },
  {
   "cell_type": "code",
   "execution_count": null,
   "id": "160f48af",
   "metadata": {},
   "outputs": [],
   "source": [
    "for l in range(num_thresholds):\n",
    "    output_file = open(path + \"/spec_{}.json\".format(pruning_thresholds[l]), \"w\")\n",
    "    json.dump(pruned_workspaces_specs[l], output_file, indent=4)\n",
    "    output_file.close()"
   ]
  },
  {
   "cell_type": "code",
   "execution_count": null,
   "id": "d82e10d4",
   "metadata": {},
   "outputs": [],
   "source": [
    "pruned_workspaces = [ pyhf.Workspace(workspace_spec) for workspace_spec in pruned_workspaces_specs ]"
   ]
  },
  {
   "cell_type": "code",
   "execution_count": null,
   "id": "287bbc5b",
   "metadata": {},
   "outputs": [],
   "source": [
    "pruned_models = [ pruned_workspace.model() for pruned_workspace in pruned_workspaces ]"
   ]
  },
  {
   "cell_type": "code",
   "execution_count": null,
   "id": "4c400205",
   "metadata": {},
   "outputs": [],
   "source": [
    "import time\n",
    "\n",
    "num_executions = 1"
   ]
  },
  {
   "cell_type": "code",
   "execution_count": null,
   "id": "e1f349fc",
   "metadata": {},
   "outputs": [],
   "source": [
    "pyhf.set_backend(\"numpy\", \"minuit\")"
   ]
  },
  {
   "cell_type": "code",
   "execution_count": null,
   "id": "286d0236",
   "metadata": {},
   "outputs": [],
   "source": [
    "%time\n",
    "average_exec_times = []\n",
    "exec_times = []\n",
    "output_params_all_specs = []\n",
    "\n",
    "for l in range(num_thresholds):\n",
    "    \n",
    "    pruned_data = pruned_workspaces[l].data(pruned_models[l]) #, include_auxdata=False)\n",
    "\n",
    "    exec_times_pruned = []\n",
    "    output_params_sigle_spec = []\n",
    "\n",
    "    for k in range(num_executions):\n",
    "        t0 = time.time()\n",
    "        output_params = pyhf.infer.mle.fit(data=pruned_data, pdf=pruned_models[l])\n",
    "        t1 = time.time()\n",
    "        exec_times_pruned.append(t1-t0)\n",
    "        \n",
    "        output_params_sigle_spec.append(dict(zip(pruned_models[l].config.par_names(), output_params)))\n",
    "        print(k+1)\n",
    "        print(output_params)\n",
    "        \n",
    "    print(\"----------------------------\")\n",
    "    exec_times_pruned = np.array(exec_times_pruned)\n",
    "    \n",
    "    exec_times.append(exec_times_pruned)\n",
    "    average_exec_times.append(np.mean(exec_times_pruned))\n",
    "    \n",
    "    output_params_all_specs.append(output_params_sigle_spec)\n",
    "    "
   ]
  },
  {
   "cell_type": "code",
   "execution_count": null,
   "id": "0b5f22ae",
   "metadata": {},
   "outputs": [],
   "source": [
    "# for k in range(num_executions):\n",
    "    for l in range(num_thresholds-1):\n",
    "        pruned_output_params_dict = output_params_all_specs[l][k]\n",
    "        parameter_names = pruned_output_params_dict.keys()\n",
    "        \n",
    "        pruned_output_params = np.fromiter(pruned_output_params_dict.values(), float)\n",
    "        original_output_params = np.array([output_params_all_specs[num_thresholds-1][k][name] for name in parameter_names])\n",
    "        print(np.abs(pruned_output_params - original_output_params))\n",
    "        #print(pruned_output_params)\n",
    "        #print(original_output_params)\n",
    "    print(\"-------------------------------\")"
   ]
  },
  {
   "cell_type": "code",
   "execution_count": null,
   "id": "62356bcb",
   "metadata": {},
   "outputs": [],
   "source": [
    "results = {\"num_executions\" : num_executions, \"num_thresholds\" : num_thresholds, \"pruning_thresholds\" : pruning_thresholds, \"average_exec_times\" : average_exec_times, \"exec_times\" : exec_times, \"output_params_all_specs\" : output_params_all_specs }"
   ]
  },
  {
   "cell_type": "code",
   "execution_count": null,
   "id": "91ee9a83",
   "metadata": {},
   "outputs": [],
   "source": [
    "output_file = open(path + filename[:-5:] + \"_PA_results.json\", \"w\")\n",
    "json.dump(results, output_file, indent=4)\n",
    "output_file.close()"
   ]
  }
 ],
 "metadata": {
  "kernelspec": {
   "display_name": "Python 3 (ipykernel)",
   "language": "python",
   "name": "python3"
  },
  "language_info": {
   "codemirror_mode": {
    "name": "ipython",
    "version": 3
   },
   "file_extension": ".py",
   "mimetype": "text/x-python",
   "name": "python",
   "nbconvert_exporter": "python",
   "pygments_lexer": "ipython3",
   "version": "3.9.2"
  },
  "vscode": {
   "interpreter": {
    "hash": "3654b5d0b3432a3d08d236c6084731c8c7becc8e5f841d0c0d383636450ad508"
   }
  }
 },
 "nbformat": 4,
 "nbformat_minor": 5
}
